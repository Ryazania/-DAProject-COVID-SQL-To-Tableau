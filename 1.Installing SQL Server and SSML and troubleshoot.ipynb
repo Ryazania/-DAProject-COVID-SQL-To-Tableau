{
 "cells": [
  {
   "cell_type": "markdown",
   "id": "26b86fac-a660-4198-a5fd-ba556917d308",
   "metadata": {},
   "source": [
    "# SQL Basics Tutorial For Beginners | Installing SQL Server Management Studio\n",
    "### and some troubleshooting that may arise"
   ]
  },
  {
   "cell_type": "markdown",
   "id": "4b125e90-5acf-4bb1-9dc3-eee9cbef5567",
   "metadata": {},
   "source": [
    "#### SQL Server Management Studio:\n",
    "\n",
    "[SSMS](uhttps://learn.microsoft.com/en-us/ssms/install/install?view=sql-server-ver15)    \n",
    "https://learn.microsoft.com/en-us/ssms/install/install?view=sql-server-ver15\n",
    "\n"
   ]
  },
  {
   "cell_type": "markdown",
   "id": "ff889346-8b15-4b0e-9d70-7926cb004ec3",
   "metadata": {},
   "source": [
    "Determine which version of SQL Server Management Studio to install\n",
    "Decide which version of SSMS to install. The most common options are:\n",
    "\n",
    "- The latest release at this point of writing is of SQL Server Management Studio 21 that is hosted on Microsoft servers. To install this version, select the following link. The installer downloads a small bootstrapper to your Downloads folder. Otherwise as long its for this link use whatever version most recent for you.\n",
    "\n",
    "- If you already have SQL Server Management Studio 21 installed, you can install another version alongside it.\n",
    "\n",
    "- You can download a bootstrapper or installer for a specific version from the Release history page and use it to install another version of SSMS."
   ]
  },
  {
   "cell_type": "markdown",
   "id": "e5370a0f-47f5-4bbe-bbc3-54114ab4be11",
   "metadata": {},
   "source": [
    "#### SQL Server:\n",
    "\n",
    "[SQL Server](https://www.microsoft.com/en-us/sql-server/sql-server-downloads)  https://www.microsoft.com/en-us/sql-server/sql-server-downloads\n",
    "\n",
    "At this point of writing they are still using SQL Server 2022 Express\n",
    "Get this free edition, ideal for development and production for desktop, web, and small server applications."
   ]
  },
  {
   "cell_type": "markdown",
   "id": "a76d8bd7-cf33-4f8e-9f32-e3e66e54f3a5",
   "metadata": {},
   "source": [
    "#### Github Scripts:\n",
    "(https://github.com/Ryazania/SSMS) https://github.com/Ryazania/SSMS"
   ]
  },
  {
   "attachments": {},
   "cell_type": "markdown",
   "id": "2b3d1514-df54-47b9-86fe-1cf8260e0c3d",
   "metadata": {},
   "source": [
    "## TROUBLESHOOT\n",
    "\n",
    "## 1. Unable to connect to SQL Server Management Studio\n",
    "When I installed both of them, SSMS somehow would not want me to connect to my SQL server. This is what I know to troubleshoot this, basically make sure that SQL Server is running on the Server Configuration manager \n",
    "\n",
    "<div> <img src=\"Pics/0.png\" alt=\"Drawing\" style=\"width: 400px;\"/></div> \n",
    "<div> <img src=\"Pics/00.png\" alt=\"Drawing\" style=\"width: 600px;\"/></div> \n",
    "\n",
    "#### 1.1 Run SQL Server Configuration Manager\n",
    "   search on your window seach bar. Select SQL Server Service. I noticed that the SQL Server Agent wasnt started, noticed the red color.\n",
    "\n",
    "  <div> <img src=\"Pics/1..png\" alt=\"Drawing\" style=\"width: 400px;\"/></div> \n",
    "  \n",
    "    Click on SQL Service Agent, and click Start\n",
    "<div> <img src=\"Pics/2.jpg\" alt=\"Drawing\" style=\"width: 400px;\"/></div> d v>\n",
    "</div>"
   ]
  },
  {
   "cell_type": "markdown",
   "id": "eee4104c-fdf1-433d-b89f-c3d9476e19c8",
   "metadata": {},
   "source": [
    "It should marked as \"Running\" now\n",
    "<div> <img src=\"Pics/3.JPG\" alt=\"Drawing\" style=\"width: 400px;\"/></div> "
   ]
  },
  {
   "cell_type": "markdown",
   "id": "bf88b97d-22e9-4974-af8f-d262e7a782c8",
   "metadata": {},
   "source": [
    "### 1.2. Still showing Certificate Error when SSMS is loaded\n",
    "--------------------\r\n"
   ]
  },
  {
   "cell_type": "markdown",
   "id": "56c1e383-c65d-47c2-8aa9-576530d1fc16",
   "metadata": {},
   "source": [
    "#####  Basically now this error popped out :\n",
    "\n",
    "\n",
    "ADDITIONAL INFORMATION:\n",
    "\n",
    "A connection was successfully established with the server, but then an error occurred during the login process. (provider: SSL Provider, error: 0 - The certificate chain was issued by an authority that is not trusted.) (Microsoft SQL Server, Error: -2146893019)\n",
    "\n",
    "For help, click: https://docs.microsoft.com/sql/relational-databases/errors-events/mssqlserver--2146893019-database-engine-error\n",
    "\n",
    "------------------------------\n",
    "\n",
    "The certificate chain was issued by an authority that is not trusted\n",
    "\n",
    "------------------------------\n"
   ]
  },
  {
   "cell_type": "markdown",
   "id": "95794c4f-db6d-478f-ab45-7586dde68f98",
   "metadata": {},
   "source": [
    "So what I did was just basically to tick mention that you trusted the certificate\n",
    "<div> <img src=\"Pics/4.png\" alt=\"Drawing\" style=\"width: 400px;\"/></div> "
   ]
  },
  {
   "cell_type": "markdown",
   "id": "52b5fd30-6bc5-4748-8792-5c165129db6c",
   "metadata": {},
   "source": [
    "And now you are ready to create your database. Hope this helps, for some reason, for my Windows laptop it wasnt straight forward installations on both SQL server and SQL Server Management Studio. Hope this helps some people!\n",
    "<div> <img src=\"Pics/5.png\" alt=\"Drawing\" style=\"width: 500px;\"/></div> "
   ]
  },
  {
   "attachments": {},
   "cell_type": "markdown",
   "id": "64f56509-5788-4b8c-a48c-88fc22d8482b",
   "metadata": {},
   "source": [
    "## 2. Importing excel file to the database\n",
    "After creating your database, and you want to import CovidDeath.xls file (or any excel file basically) into your newly created database this is how you do it:\n",
    "\n",
    "<div> <img src=\"Pics/6.png\" alt=\"Drawing\" style=\"width: 500px;\"/></div> \n",
    "<div> <img src=\"Pics/7.png\" alt=\"Drawing\" style=\"width: 500px;\"/></div> \n",
    "<div> <img src=\"Pics/8.png\" alt=\"Drawing\" style=\"width: 500px;\"/></div>\n",
    "<div> <img src=\"Pics/9.png\" alt=\"Drawing\" style=\"width: 500px;\"/></div>\n",
    "<div> <img src=\"Pics/10.png\" alt=\"Drawing\" style=\"width: 500px;\"/></div>\n",
    "<div> <img src=\"Pics/11.png\" alt=\"Drawing\" style=\"width: 500px;\"/></div>\n",
    "\n",
    "If you have SQL Server Native Client 11.0 and when you have done this steps you are able to read your data then good for you! I didnt have this option. so to the next step:\n",
    "\n",
    "\n",
    "\n"
   ]
  },
  {
   "attachments": {},
   "cell_type": "markdown",
   "id": "7aed7693-11f0-45ff-a22f-492fc4ffeb33",
   "metadata": {},
   "source": [
    "## 3.Unable to importing excel file to the database after the step above\n",
    "\n",
    "For some reason, if you using SQL Server 2022 like me it will pop error like the SQL Server Native Client 11.0 is missing. \n",
    "\n",
    "<div> <img src=\"Pics/12.png\" alt=\"Drawing\" style=\"width: 500px;\"/></div>\n",
    "It might seems like for SQL Server 2022 its no longer using SQL Server Native Client 11.0 and the option is not available ( picture below)\n",
    "\n",
    "<div> <img src=\"Pics/13.png\" alt=\"Drawing\" style=\"width: 500px;\"/></div>\n",
    "If this the case for you, check if you can import using SQL Server 2022 Import and Export Data ( search on your windows app).\n",
    "\n",
    "<div> <img src=\"Pics/14.png\" alt=\"Drawing\" style=\"width: 500px;\"/></div>\n",
    "\n",
    "In my case, this is stil doesnt work. Go to Microsoft Download centre and search  Microsoft Access Database Engine 2016\n",
    "<div> <img src=\"Pics/15.png\" alt=\"Drawing\" style=\"width: 500px;\"/></div>\n",
    "\n",
    "I think I am using 64bit on this laptop, but if you are unsure which you are using, you could check it by going to yourFile Explorer, right click and click \"Properties\" or ALT + ENTER:\r",
    "<div> <img src=\"Pics/16.png\" alt=\"Drawing\" style=\"width: 500px;\"/></div>\n",
    "\n",
    "So back to the download file in Microsoft Access Database 2016 you are going to check based on the 32-bit or 64-bit ( which I have) and download it\n",
    "\n",
    "<div> <img src=\"Pics/17.png\" alt=\"Drawing\" style=\"width: 500px;\"/></div>\n",
    "Note there is a installation instruction that is quite handy\n",
    "<div> <img src=\"Pics/18.png\" alt=\"Drawing\" style=\"width: 500px;\"/></div>\n",
    "\n",
    "Alright then, I went and trying to remove any debris of this database engine. I may have installed SQL server like 3 times in previous years in my laptop. Later I find out however, that I didn’t have any of this program but its good to check anyway. \r",
    "<div> <img src=\"Pics/19.png\" alt=\"Drawing\" style=\"width: 500px;\"/></div>\n",
    "\n",
    "Now Check your download file and install the Microsoft Access database engine 2016 Setup\n",
    "<div> <img src=\"Pics/20.png\" alt=\"Drawing\" style=\"width: 500px;\"/></div>\n",
    "\n",
    "and install it. \n",
    "<div> <img src=\"Pics/21.png\" alt=\"Drawing\" style=\"width: 500px;\"/></div>\n",
    "\n",
    "Now go back into your database and try to import that file again, but this time, instead of selecting SQL Server Native Client 11.0, select Microsoft OLE DB Provider for SQL Server\n",
    "\n",
    "<div> <img src=\"Pics/22.png\" alt=\"Drawing\" style=\"width: 500px;\"/></div>\n",
    "\n",
    "Now as you see you are able to pass that without any error message. Specify table to copy or to write a query. In this option I chose to copy data from one to more tables.\n",
    "<div> <img src=\"Pics/23.png\" alt=\"Drawing\" style=\"width: 500px;\"/></div>\n",
    "Next click Save and Run Package, you can opt to save as SSIS package. For now I will just going to run immediately.\n",
    "<div> <img src=\"Pics/24.png\" alt=\"Drawing\" style=\"width: 500px;\"/></div>\n",
    "And click finish! Let it run and do its thing...\n",
    "<div> <img src=\"Pics/26.png\" alt=\"Drawing\" style=\"width: 500px;\"/></div>\n",
    "\n",
    "<div> <img src=\"Pics/27.png\" alt=\"Drawing\" style=\"width: 500px;\"/></div>\n",
    "\n",
    "And Refresh, and there it goes. We finally able to import an xls file\n",
    "<div> <img src=\"Pics/28.png\" alt=\"Drawing\" style=\"width: 500px;\"/></div>\n",
    "\n",
    "Lets test if it works by making a new query and try Execute it\n",
    "<div> <img src=\"Pics/29.png\" alt=\"Drawing\" style=\"width: 500px;\"/></div>\n",
    "\n",
    "<div> <img src=\"Pics/31.png\" alt=\"Drawing\" style=\"width: 500px;\"/></div>\n",
    "\n",
    "And it should work now!\n",
    "\n",
    "<div> <img src=\"Pics/32.png\" alt=\"Drawing\" style=\"width: 500px;\"/></div>\n",
    "\n",
    "\n"
   ]
  },
  {
   "cell_type": "markdown",
   "id": "911deaa6-5762-4535-9959-3ad17da64187",
   "metadata": {},
   "source": [
    "## Summary\n",
    "\tIt can be confusing at first while using SQL Server 2022 with the registry error message as above, there is no explanation that we have to also download Microsoft Access Database Engine 2016. I hope this helps anyone. Cheers"
   ]
  },
  {
   "cell_type": "markdown",
   "id": "11fbb25d-e2c4-4be2-83da-005621d07c6c",
   "metadata": {},
   "source": [
    "### Author\n",
    "#### Ryazania "
   ]
  },
  {
   "cell_type": "code",
   "execution_count": null,
   "id": "9f29457f-fea9-453b-9555-bce52d5df038",
   "metadata": {},
   "outputs": [],
   "source": []
  }
 ],
 "metadata": {
  "kernelspec": {
   "display_name": "Python 3 (ipykernel)",
   "language": "python",
   "name": "python3"
  },
  "language_info": {
   "codemirror_mode": {
    "name": "ipython",
    "version": 3
   },
   "file_extension": ".py",
   "mimetype": "text/x-python",
   "name": "python",
   "nbconvert_exporter": "python",
   "pygments_lexer": "ipython3",
   "version": "3.11.7"
  }
 },
 "nbformat": 4,
 "nbformat_minor": 5
}
